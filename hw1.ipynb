{
 "cells": [
  {
   "cell_type": "markdown",
   "metadata": {
    "deletable": false,
    "editable": false,
    "nbgrader": {
     "checksum": "c01341af646d3b0ee211791509c9a1fd",
     "grade": false,
     "grade_id": "cell-c221f36c8cb8cc40",
     "locked": true,
     "schema_version": 1,
     "solution": false
    }
   },
   "source": [
    "# Recommendation systems\n",
    "Welcome to your first homework assignment about recommendation systems.\n"
   ]
  },
  {
   "cell_type": "markdown",
   "metadata": {
    "deletable": false,
    "editable": false,
    "nbgrader": {
     "checksum": "72f19a9d892bcda62e9635861cacb735",
     "grade": false,
     "grade_id": "cell-5ceae71aaff52339",
     "locked": true,
     "schema_version": 1,
     "solution": false
    }
   },
   "source": [
    "## The Cold Start Problem \n",
    "\n",
    "The colaborative filtering method discussed in class does not address the problem of new user or new movies. What prediction would you use in these cases:\n",
    "\n",
    "* A new user but a known movie\n",
    "* A new movie and a known user\n",
    "* A new user and new movie"
   ]
  },
  {
   "cell_type": "markdown",
   "metadata": {
    "deletable": false,
    "nbgrader": {
     "checksum": "0da54fb4107cce65314f3692206a2c66",
     "grade": true,
     "grade_id": "cell-65c54ba14a58709f",
     "locked": false,
     "points": 2,
     "schema_version": 1,
     "solution": true
    }
   },
   "source": [
    "YOUR ANSWER HERE\n",
    "\n",
    "* Content-based recommendation\n"
   ]
  },
  {
   "cell_type": "markdown",
   "metadata": {
    "deletable": false,
    "editable": false,
    "nbgrader": {
     "checksum": "5d98647caefbe861f117cdde5d30cc40",
     "grade": false,
     "grade_id": "cell-d43d0152c6b4e82f",
     "locked": true,
     "schema_version": 1,
     "solution": false
    }
   },
   "source": [
    "## Matrix Factorization with bias\n",
    "We want to extend the Matrix Factorization model discussed in class to add a \"bias\" parameter for each user and another \"bias\" parameter for each movie.  For the problem in class we had the parameters matrix $U$ and $V$, we are adding $u^0$ which is a vector of dimension $n_u$ and $v^0$ which is a vector of dimension $n_m$. The equations\n",
    "\n",
    "$$\\hat{y}_{ij} = u_{0i} + v_{0j} + u_i \\cdot v_j  $$ \n",
    " \n",
    "(a) How many weights (parameters) are we fitting for this problem?\n",
    "\n",
    "(b) Write the gradient descent equations for this problem."
   ]
  },
  {
   "cell_type": "markdown",
   "metadata": {
    "deletable": false,
    "nbgrader": {
     "checksum": "582dbd6ac3203c6be51c3b3d89732ff9",
     "grade": true,
     "grade_id": "cell-d553da17ca4564e8",
     "locked": false,
     "points": 5,
     "schema_version": 1,
     "solution": true
    }
   },
   "source": [
    "YOUR ANSWER HERE\n",
    "\n",
    "(a)\n",
    "\n",
    "$n_{u} \\times (k+1)+n_{m} \\times (k+1)$\n",
    "\n",
    "(b) \n",
    "\n",
    "$u_{ik} = u_{ik}+ \\frac{2\\eta}{N}\\sum_{j:r_{ij}=1}(y_{ij}-u_{i} \\cdot v_{j} - u_{0i} - v_{0j})v_{jk}$\n",
    "\n",
    "$v_{jk} = v_{jk}+ \\frac{2\\eta}{N}\\sum_{i:r_{ij}=1}(y_{ij}-u_{i} \\cdot v_{j} - u_{0i} - v_{0j})u_{ik}$"
   ]
  },
  {
   "cell_type": "markdown",
   "metadata": {
    "deletable": false,
    "editable": false,
    "nbgrader": {
     "checksum": "5d46c5ebd4701c30e558eb55caea82a2",
     "grade": false,
     "grade_id": "cell-a3ecbb6da6a04705",
     "locked": true,
     "schema_version": 1,
     "solution": false
    }
   },
   "source": [
    "# Collaborative Filtering with Gradient Descent \n",
    "\n",
    "In this part of the assignment you will build a collaborative filtering model to predict netflix ratings.  This assignment will step you through how to do this using stochastic gradient descent. The data for this assignment is ...\n",
    "\n",
    "**Instructions:**\n",
    "- Do not use loops (for/while) in your code, unless the instructions explicitly ask you to do so.\n",
    "- DO NOT change paths (-3 points)\n",
    "- DO NOT submit data to github (-2 points)\n",
    "\n",
    "**You will learn to:**\n",
    "- Build the general architecture of a learning algorithm, including:\n",
    "    - Encoding rating data\n",
    "    - Initializing parameters\n",
    "    - Calculating the cost function\n",
    "    - Calculating gradient\n",
    "    - Using an optimization algorithm (gradient descent) \n",
    "    - Predicting on new data\n",
    "- Putting it all together."
   ]
  },
  {
   "cell_type": "code",
   "execution_count": 1,
   "metadata": {
    "ExecuteTime": {
     "end_time": "2019-01-29T05:52:54.758626Z",
     "start_time": "2019-01-29T05:52:54.136495Z"
    }
   },
   "outputs": [],
   "source": [
    "import numpy as np\n",
    "import pandas as pd"
   ]
  },
  {
   "cell_type": "markdown",
   "metadata": {
    "deletable": false,
    "editable": false,
    "nbgrader": {
     "checksum": "bcaa736523b6e2ff0267a99e13938158",
     "grade": false,
     "grade_id": "cell-0ea2a22f6bbdabbc",
     "locked": true,
     "schema_version": 1,
     "solution": false
    }
   },
   "source": [
    "## Encoding rating data\n",
    "Here are our very small subset of fake data to get us started."
   ]
  },
  {
   "cell_type": "code",
   "execution_count": 2,
   "metadata": {
    "ExecuteTime": {
     "end_time": "2019-01-29T05:52:55.404832Z",
     "start_time": "2019-01-29T05:52:55.280725Z"
    }
   },
   "outputs": [
    {
     "name": "stdout",
     "output_type": "stream",
     "text": [
      "userId,movieId,rating\r\n",
      "11,1,4\r\n",
      "11,23,5\r\n",
      "2,23,5\r\n",
      "2,4,3\r\n",
      "31,1,4\r\n",
      "31,23,4\r\n",
      "4,1,5\r\n",
      "4,3,2\r\n",
      "52,1,1\r\n",
      "52,3,4\r\n",
      "61,3,5\r\n",
      "7,23,1\r\n",
      "7,3,3\r\n"
     ]
    }
   ],
   "source": [
    "# The first row says that user 11 reated movie 1 with a score of 4\n",
    "!cat tiny_training2.csv "
   ]
  },
  {
   "cell_type": "code",
   "execution_count": 3,
   "metadata": {
    "ExecuteTime": {
     "end_time": "2019-01-29T05:52:55.491373Z",
     "start_time": "2019-01-29T05:52:55.486784Z"
    },
    "deletable": false,
    "editable": false,
    "nbgrader": {
     "checksum": "14535f6dc2c9b8a691698d3d28f21b89",
     "grade": false,
     "grade_id": "cell-44b682275c3630cc",
     "locked": true,
     "schema_version": 1,
     "solution": false
    }
   },
   "outputs": [],
   "source": [
    "# here is a handy function from fast.ai\n",
    "def proc_col(col):\n",
    "    \"\"\"Encodes a pandas column with continous ids. \n",
    "    \"\"\"\n",
    "    uniq = col.unique()\n",
    "    name2idx = {o:i for i,o in enumerate(uniq)}\n",
    "    return name2idx, np.array([name2idx[x] for x in col]), len(uniq)"
   ]
  },
  {
   "cell_type": "code",
   "execution_count": 4,
   "metadata": {
    "ExecuteTime": {
     "end_time": "2019-01-29T05:52:55.672669Z",
     "start_time": "2019-01-29T05:52:55.666016Z"
    },
    "deletable": false,
    "nbgrader": {
     "checksum": "04f2fd8d1394e69d038ecc4e1d1df6ac",
     "grade": false,
     "grade_id": "cell-41f615ff687624c5",
     "locked": false,
     "schema_version": 1,
     "solution": true
    }
   },
   "outputs": [],
   "source": [
    "def encode_data(df):\n",
    "    \"\"\"Encodes rating data with continous user and movie ids using \n",
    "    the helpful fast.ai function from above.\n",
    "    \n",
    "    Arguments:\n",
    "      train_csv: a csv file with columns user_id,movie_id,rating \n",
    "    \n",
    "    Returns:\n",
    "      df: a dataframe with the encode data\n",
    "      num_users\n",
    "      num_movies\n",
    "      \n",
    "    \"\"\"\n",
    "    # YOUR CODE HERE\n",
    "    df['userId'] = proc_col(df['userId'])[1]\n",
    "    df['movieId'] = proc_col(df['movieId'])[1]\n",
    "    num_users = proc_col(df['userId'])[2]\n",
    "    num_movies = proc_col(df['movieId'])[2]\n",
    "    return df, num_users, num_movies"
   ]
  },
  {
   "cell_type": "code",
   "execution_count": 5,
   "metadata": {
    "ExecuteTime": {
     "end_time": "2019-01-29T05:52:55.853157Z",
     "start_time": "2019-01-29T05:52:55.833882Z"
    },
    "deletable": false,
    "editable": false,
    "nbgrader": {
     "checksum": "d68d9f144f61298588aa5501486d093b",
     "grade": false,
     "grade_id": "cell-20524cf964cd86f3",
     "locked": true,
     "schema_version": 1,
     "solution": false
    }
   },
   "outputs": [],
   "source": [
    "df = pd.read_csv(\"tiny_training2.csv\")\n",
    "df, num_users, num_movies = encode_data(df)"
   ]
  },
  {
   "cell_type": "code",
   "execution_count": 6,
   "metadata": {
    "ExecuteTime": {
     "end_time": "2019-01-29T05:52:56.077923Z",
     "start_time": "2019-01-29T05:52:56.054704Z"
    }
   },
   "outputs": [
    {
     "data": {
      "text/html": [
       "<div>\n",
       "<style scoped>\n",
       "    .dataframe tbody tr th:only-of-type {\n",
       "        vertical-align: middle;\n",
       "    }\n",
       "\n",
       "    .dataframe tbody tr th {\n",
       "        vertical-align: top;\n",
       "    }\n",
       "\n",
       "    .dataframe thead th {\n",
       "        text-align: right;\n",
       "    }\n",
       "</style>\n",
       "<table border=\"1\" class=\"dataframe\">\n",
       "  <thead>\n",
       "    <tr style=\"text-align: right;\">\n",
       "      <th></th>\n",
       "      <th>userId</th>\n",
       "      <th>movieId</th>\n",
       "      <th>rating</th>\n",
       "    </tr>\n",
       "  </thead>\n",
       "  <tbody>\n",
       "    <tr>\n",
       "      <th>0</th>\n",
       "      <td>0</td>\n",
       "      <td>0</td>\n",
       "      <td>4</td>\n",
       "    </tr>\n",
       "    <tr>\n",
       "      <th>1</th>\n",
       "      <td>0</td>\n",
       "      <td>1</td>\n",
       "      <td>5</td>\n",
       "    </tr>\n",
       "    <tr>\n",
       "      <th>2</th>\n",
       "      <td>1</td>\n",
       "      <td>1</td>\n",
       "      <td>5</td>\n",
       "    </tr>\n",
       "    <tr>\n",
       "      <th>3</th>\n",
       "      <td>1</td>\n",
       "      <td>2</td>\n",
       "      <td>3</td>\n",
       "    </tr>\n",
       "    <tr>\n",
       "      <th>4</th>\n",
       "      <td>2</td>\n",
       "      <td>0</td>\n",
       "      <td>4</td>\n",
       "    </tr>\n",
       "    <tr>\n",
       "      <th>5</th>\n",
       "      <td>2</td>\n",
       "      <td>1</td>\n",
       "      <td>4</td>\n",
       "    </tr>\n",
       "    <tr>\n",
       "      <th>6</th>\n",
       "      <td>3</td>\n",
       "      <td>0</td>\n",
       "      <td>5</td>\n",
       "    </tr>\n",
       "    <tr>\n",
       "      <th>7</th>\n",
       "      <td>3</td>\n",
       "      <td>3</td>\n",
       "      <td>2</td>\n",
       "    </tr>\n",
       "    <tr>\n",
       "      <th>8</th>\n",
       "      <td>4</td>\n",
       "      <td>0</td>\n",
       "      <td>1</td>\n",
       "    </tr>\n",
       "    <tr>\n",
       "      <th>9</th>\n",
       "      <td>4</td>\n",
       "      <td>3</td>\n",
       "      <td>4</td>\n",
       "    </tr>\n",
       "    <tr>\n",
       "      <th>10</th>\n",
       "      <td>5</td>\n",
       "      <td>3</td>\n",
       "      <td>5</td>\n",
       "    </tr>\n",
       "    <tr>\n",
       "      <th>11</th>\n",
       "      <td>6</td>\n",
       "      <td>1</td>\n",
       "      <td>1</td>\n",
       "    </tr>\n",
       "    <tr>\n",
       "      <th>12</th>\n",
       "      <td>6</td>\n",
       "      <td>3</td>\n",
       "      <td>3</td>\n",
       "    </tr>\n",
       "  </tbody>\n",
       "</table>\n",
       "</div>"
      ],
      "text/plain": [
       "    userId  movieId  rating\n",
       "0        0        0       4\n",
       "1        0        1       5\n",
       "2        1        1       5\n",
       "3        1        2       3\n",
       "4        2        0       4\n",
       "5        2        1       4\n",
       "6        3        0       5\n",
       "7        3        3       2\n",
       "8        4        0       1\n",
       "9        4        3       4\n",
       "10       5        3       5\n",
       "11       6        1       1\n",
       "12       6        3       3"
      ]
     },
     "execution_count": 6,
     "metadata": {},
     "output_type": "execute_result"
    }
   ],
   "source": [
    "df"
   ]
  },
  {
   "cell_type": "code",
   "execution_count": 7,
   "metadata": {
    "ExecuteTime": {
     "end_time": "2019-01-29T05:52:56.673269Z",
     "start_time": "2019-01-29T05:52:56.670243Z"
    },
    "deletable": false,
    "editable": false,
    "nbgrader": {
     "checksum": "cb4c9b3ca5958683ecdee3371402ee4f",
     "grade": true,
     "grade_id": "cell-9f450c8da332e44a",
     "locked": true,
     "points": 1,
     "schema_version": 1,
     "solution": false
    }
   },
   "outputs": [],
   "source": [
    "assert(num_users == 7)"
   ]
  },
  {
   "cell_type": "code",
   "execution_count": 8,
   "metadata": {
    "ExecuteTime": {
     "end_time": "2019-01-29T05:52:57.257995Z",
     "start_time": "2019-01-29T05:52:57.253845Z"
    },
    "deletable": false,
    "editable": false,
    "nbgrader": {
     "checksum": "bb477356d1545f228d80f646789249a5",
     "grade": true,
     "grade_id": "cell-e2782b6d1a8b7e78",
     "locked": true,
     "points": 1,
     "schema_version": 1,
     "solution": false
    }
   },
   "outputs": [],
   "source": [
    "assert(num_movies == 4)"
   ]
  },
  {
   "cell_type": "code",
   "execution_count": 9,
   "metadata": {
    "ExecuteTime": {
     "end_time": "2019-01-29T05:52:57.581201Z",
     "start_time": "2019-01-29T05:52:57.575744Z"
    },
    "deletable": false,
    "editable": false,
    "nbgrader": {
     "checksum": "509058ab6b95b9e9f9e997fb92bc42ee",
     "grade": true,
     "grade_id": "cell-33d1f1e347947a47",
     "locked": true,
     "points": 1,
     "schema_version": 1,
     "solution": false
    }
   },
   "outputs": [],
   "source": [
    "np.testing.assert_equal(df[\"userId\"].values, np.array([0, 0, 1, 1, 2, 2, 3, 3, 4, 4, 5, 6, 6]))"
   ]
  },
  {
   "cell_type": "code",
   "execution_count": null,
   "metadata": {
    "deletable": false,
    "editable": false,
    "nbgrader": {
     "checksum": "fa3e28917ed5d2f1cc3f20d31be5f9e2",
     "grade": true,
     "grade_id": "cell-a17fa0331b6be94d",
     "locked": true,
     "points": 2,
     "schema_version": 1,
     "solution": false
    }
   },
   "outputs": [],
   "source": []
  },
  {
   "cell_type": "markdown",
   "metadata": {
    "deletable": false,
    "editable": false,
    "nbgrader": {
     "checksum": "b7493f49eec0c1e8e0cb10e3cb3082f0",
     "grade": false,
     "grade_id": "cell-72490bca925d342a",
     "locked": true,
     "schema_version": 1,
     "solution": false
    }
   },
   "source": [
    "## Initializing parameters"
   ]
  },
  {
   "cell_type": "code",
   "execution_count": 10,
   "metadata": {
    "ExecuteTime": {
     "end_time": "2019-01-29T05:53:01.100814Z",
     "start_time": "2019-01-29T05:53:01.089653Z"
    },
    "deletable": false,
    "editable": false,
    "nbgrader": {
     "checksum": "86ad5b49b1e7774aa007d3708b4e20b2",
     "grade": false,
     "grade_id": "cell-86cdf4ce1a4fb8f7",
     "locked": true,
     "schema_version": 1,
     "solution": false
    }
   },
   "outputs": [
    {
     "data": {
      "text/plain": [
       "array([[3.55790894, 4.69774849, 0.92361109, 1.58739544, 3.00593239],\n",
       "       [4.69774849, 7.44656163, 1.18135616, 2.64524868, 4.74559066],\n",
       "       [0.92361109, 1.18135616, 0.24548062, 0.34025121, 0.69616965],\n",
       "       [1.58739544, 2.64524868, 0.34025121, 1.61561   , 2.41361975],\n",
       "       [3.00593239, 4.74559066, 0.69616965, 2.41361975, 3.82505541],\n",
       "       [2.02000808, 3.29656257, 0.43174569, 2.065911  , 3.07264619],\n",
       "       [2.07691001, 3.02887291, 0.53270924, 1.02482544, 1.90251125]])"
      ]
     },
     "execution_count": 10,
     "metadata": {},
     "output_type": "execute_result"
    }
   ],
   "source": [
    "def create_embedings(n, K):\n",
    "    \"\"\" Create a numpy random matrix of shape n, K\n",
    "    \n",
    "    The random matrix should be initialized with uniform values in (0, 6/K)\n",
    "    Arguments:\n",
    "    \n",
    "    Inputs:\n",
    "    n: number of items/users\n",
    "    K: number of factors in the embeding \n",
    "    \n",
    "    Returns:\n",
    "    emb: numpy array of shape (n, num_factors)\n",
    "    \"\"\"\n",
    "    np.random.seed(3)\n",
    "    emb = 6*np.random.random((n, K)) / K\n",
    "    return emb\n",
    "\n",
    "# here is an example on how the prediction matrix would look like with 7 users and 5 movies\n",
    "np.dot(create_embedings(7,3), create_embedings(5,3).transpose())"
   ]
  },
  {
   "cell_type": "markdown",
   "metadata": {
    "deletable": false,
    "editable": false,
    "nbgrader": {
     "checksum": "77e65bbf9979c9e70ff4f51fd6f205cf",
     "grade": false,
     "grade_id": "cell-beef892ffe04476e",
     "locked": true,
     "schema_version": 1,
     "solution": false
    }
   },
   "source": [
    "## Encoding Y as a sparse matrix\n",
    "This code helps you encode a $Y$ as a sparse matrix from the dataframe. "
   ]
  },
  {
   "cell_type": "code",
   "execution_count": 11,
   "metadata": {
    "ExecuteTime": {
     "end_time": "2019-01-29T05:53:05.254542Z",
     "start_time": "2019-01-29T05:53:05.214329Z"
    },
    "deletable": false,
    "editable": false,
    "nbgrader": {
     "checksum": "ba9e920654a0367a71735df88ee64424",
     "grade": false,
     "grade_id": "cell-147015e836174cf4",
     "locked": true,
     "schema_version": 1,
     "solution": false
    }
   },
   "outputs": [],
   "source": [
    "from scipy import sparse\n",
    "def df2matrix(df, nrows, ncols, column_name=\"rating\"):\n",
    "    \"\"\" Returns a sparse matrix constructed from a dataframe\n",
    "    \n",
    "    This code assumes the df has columns: MovieID,UserID,Rating\n",
    "    \"\"\"\n",
    "    values = df[column_name].values\n",
    "    ind_movie = df['movieId'].values\n",
    "    ind_user = df['userId'].values\n",
    "    return sparse.csc_matrix((values,(ind_user, ind_movie)),shape=(nrows, ncols))"
   ]
  },
  {
   "cell_type": "code",
   "execution_count": 12,
   "metadata": {
    "ExecuteTime": {
     "end_time": "2019-01-29T05:53:05.554833Z",
     "start_time": "2019-01-29T05:53:05.545757Z"
    },
    "deletable": false,
    "editable": false,
    "nbgrader": {
     "checksum": "5ab1d3d656625a82019fe4f03ba236ca",
     "grade": false,
     "grade_id": "cell-18d0b3280aeb27b0",
     "locked": true,
     "schema_version": 1,
     "solution": false
    }
   },
   "outputs": [],
   "source": [
    "df = pd.read_csv(\"tiny_training2.csv\")\n",
    "df, num_users, num_movies = encode_data(df)\n",
    "Y = df2matrix(df, num_users, num_movies)"
   ]
  },
  {
   "cell_type": "code",
   "execution_count": 13,
   "metadata": {
    "ExecuteTime": {
     "end_time": "2019-01-29T05:53:05.785151Z",
     "start_time": "2019-01-29T05:53:05.779419Z"
    }
   },
   "outputs": [
    {
     "name": "stdout",
     "output_type": "stream",
     "text": [
      "  (0, 0)\t4\n",
      "  (2, 0)\t4\n",
      "  (3, 0)\t5\n",
      "  (4, 0)\t1\n",
      "  (0, 1)\t5\n",
      "  (1, 1)\t5\n",
      "  (2, 1)\t4\n",
      "  (6, 1)\t1\n",
      "  (1, 2)\t3\n",
      "  (3, 3)\t2\n",
      "  (4, 3)\t4\n",
      "  (5, 3)\t5\n",
      "  (6, 3)\t3\n"
     ]
    }
   ],
   "source": [
    "print(Y)"
   ]
  },
  {
   "cell_type": "markdown",
   "metadata": {},
   "source": [
    "## Predicting Ratings"
   ]
  },
  {
   "cell_type": "code",
   "execution_count": 14,
   "metadata": {
    "ExecuteTime": {
     "end_time": "2019-01-29T05:53:09.273246Z",
     "start_time": "2019-01-29T05:53:09.269696Z"
    },
    "deletable": false,
    "nbgrader": {
     "checksum": "7e22efa84b65372409c1521b74b711ef",
     "grade": false,
     "grade_id": "cell-c59f98d40119c2b1",
     "locked": false,
     "schema_version": 1,
     "solution": true
    }
   },
   "outputs": [],
   "source": [
    "def predict(df, emb_user, emb_movie):\n",
    "    \"\"\" This function computes df[\"prediction\"] without doing (U*V^T).\n",
    "    \n",
    "    Compute df[\"prediction\"] by using elementwise multiplication of the corresponding embeddings and then \n",
    "    sum to get the prediction u_i*v_j. This avoids creating the dense matrix U*V^T.\n",
    "    \"\"\"\n",
    "    # YOUR CODE HERE\n",
    "    df['prediction'] = np.sum(emb_user[df['userId']]*emb_movie[df['movieId']],axis=1)\n",
    "    return df"
   ]
  },
  {
   "cell_type": "code",
   "execution_count": 15,
   "metadata": {
    "ExecuteTime": {
     "end_time": "2019-01-29T05:53:09.594260Z",
     "start_time": "2019-01-29T05:53:09.588778Z"
    },
    "deletable": false,
    "editable": false,
    "nbgrader": {
     "checksum": "6c9eb30ebd7a298e244c33ec47e53b31",
     "grade": true,
     "grade_id": "cell-7e9322939fc823ac",
     "locked": true,
     "points": 0,
     "schema_version": 1,
     "solution": false
    }
   },
   "outputs": [],
   "source": [
    "emb_user = np.ones((num_users, 3))\n",
    "emb_movie = np.ones((num_movies, 3))\n",
    "df = predict(df, emb_user, emb_movie)\n",
    "assert(df[\"prediction\"][12] == 3.0)"
   ]
  },
  {
   "cell_type": "code",
   "execution_count": 16,
   "metadata": {
    "ExecuteTime": {
     "end_time": "2019-01-29T05:53:09.894710Z",
     "start_time": "2019-01-29T05:53:09.888204Z"
    },
    "deletable": false,
    "editable": false,
    "nbgrader": {
     "checksum": "3e3d42353ec795a239cda9ed31ad26d7",
     "grade": true,
     "grade_id": "cell-54f0a52cb61a069b",
     "locked": true,
     "points": 1,
     "schema_version": 1,
     "solution": false
    }
   },
   "outputs": [],
   "source": [
    "emb_user = create_embedings(num_users, K=4)\n",
    "emb_movie = create_embedings(num_movies, K=4)\n",
    "df = predict(df, emb_user, emb_movie)\n",
    "pred_12 = df[\"prediction\"][12]\n",
    "assert(np.around(pred_12, decimals=2)== 2.05)"
   ]
  },
  {
   "cell_type": "markdown",
   "metadata": {
    "deletable": false,
    "editable": false,
    "nbgrader": {
     "checksum": "49c30ebd232f8c363d4551fe16fdb801",
     "grade": false,
     "grade_id": "cell-34b067092cd650f9",
     "locked": true,
     "schema_version": 1,
     "solution": false
    }
   },
   "source": [
    "## Calculating the cost function"
   ]
  },
  {
   "cell_type": "code",
   "execution_count": 17,
   "metadata": {
    "ExecuteTime": {
     "end_time": "2019-01-29T05:53:15.191307Z",
     "start_time": "2019-01-29T05:53:15.187051Z"
    },
    "deletable": false,
    "nbgrader": {
     "checksum": "a6f9e54edd126b7150b586f7fc574656",
     "grade": false,
     "grade_id": "cell-e4b1d37dbcb0c405",
     "locked": false,
     "schema_version": 1,
     "solution": true
    }
   },
   "outputs": [],
   "source": [
    "# Use vectorized computation for this function. No loops!\n",
    "# Hint: use predict function\n",
    "def cost(df, emb_user, emb_movie):\n",
    "    \"\"\" Computes mean square error\n",
    "    \n",
    "    First compute prediction using the predict function.\n",
    "    Prediction for user i and movie j is emb_user[i]*emb_movie[j]\n",
    "    \n",
    "    Arguments:\n",
    "      df: dataframe with all data or a subset of the data\n",
    "      emb_user: embedings for users\n",
    "      emb_movie: embedings for movies\n",
    "      \n",
    "    Returns:\n",
    "      error(float): this is the MSE\n",
    "    \"\"\"\n",
    "    # YOUR CODE HERE\n",
    "    df = predict(df, emb_user, emb_movie)\n",
    "    error = sum(np.square(df['rating']-df['prediction'])/len(df))\n",
    "    return error"
   ]
  },
  {
   "cell_type": "code",
   "execution_count": 18,
   "metadata": {
    "ExecuteTime": {
     "end_time": "2019-01-29T05:53:15.434073Z",
     "start_time": "2019-01-29T05:53:15.415007Z"
    },
    "deletable": false,
    "editable": false,
    "nbgrader": {
     "checksum": "e27109a5852d29a4db2fcd9518f547ee",
     "grade": true,
     "grade_id": "cell-e7b5689049c2f45a",
     "locked": true,
     "points": 1,
     "schema_version": 1,
     "solution": false
    }
   },
   "outputs": [],
   "source": [
    "emb_user = np.ones((num_users, 3))\n",
    "emb_movie = np.ones((num_movies, 3))\n",
    "error = cost(df, emb_user, emb_movie)\n",
    "assert(np.around(error, decimals=2) == 2.23)"
   ]
  },
  {
   "cell_type": "code",
   "execution_count": 19,
   "metadata": {
    "ExecuteTime": {
     "end_time": "2019-01-29T05:53:15.630114Z",
     "start_time": "2019-01-29T05:53:15.624960Z"
    },
    "deletable": false,
    "editable": false,
    "nbgrader": {
     "checksum": "b010d5b213e9547b4122fa419c2429e3",
     "grade": true,
     "grade_id": "cell-3c0b25b85e65f88b",
     "locked": true,
     "points": 1,
     "schema_version": 1,
     "solution": false
    }
   },
   "outputs": [],
   "source": [
    "emb_user = create_embedings(num_users, K=4)\n",
    "emb_movie = create_embedings(num_movies, K=4)\n",
    "error = cost(df, emb_user, emb_movie)\n",
    "assert(np.around(error, decimals=2) == 4.36)"
   ]
  },
  {
   "cell_type": "markdown",
   "metadata": {
    "deletable": false,
    "editable": false,
    "nbgrader": {
     "checksum": "d195d7d2bd356f3f7f11cd16bb40acea",
     "grade": false,
     "grade_id": "cell-eecb153a5272d90a",
     "locked": true,
     "schema_version": 1,
     "solution": false
    }
   },
   "source": [
    "## Calculating gradient"
   ]
  },
  {
   "cell_type": "code",
   "execution_count": 20,
   "metadata": {
    "ExecuteTime": {
     "end_time": "2019-01-29T05:53:19.286864Z",
     "start_time": "2019-01-29T05:53:19.281631Z"
    },
    "deletable": false,
    "editable": false,
    "nbgrader": {
     "checksum": "3cb7a507904ee5e83135fb967d762da9",
     "grade": false,
     "grade_id": "cell-745f5e8d9b341426",
     "locked": true,
     "schema_version": 1,
     "solution": false
    }
   },
   "outputs": [],
   "source": [
    "def finite_difference(df, emb_user, emb_movie, ind_u=None, ind_m=None, k=None):\n",
    "    \"\"\" Computes finite difference on MSE(U, V).\n",
    "    \n",
    "    This function is used for testing the gradient function. \n",
    "    \"\"\"\n",
    "    e = 0.000000001\n",
    "    c1 = cost(df, emb_user, emb_movie)\n",
    "    K = emb_user.shape[1]\n",
    "    x = np.zeros_like(emb_user)\n",
    "    y = np.zeros_like(emb_movie)\n",
    "    if ind_u is not None:\n",
    "        x[ind_u][k] = e\n",
    "    else:\n",
    "        y[ind_m][k] = e\n",
    "    c2 = cost(df, emb_user + x, emb_movie + y)\n",
    "    return (c2 - c1)/e"
   ]
  },
  {
   "cell_type": "code",
   "execution_count": 21,
   "metadata": {
    "ExecuteTime": {
     "end_time": "2019-01-29T05:53:19.497201Z",
     "start_time": "2019-01-29T05:53:19.491056Z"
    },
    "deletable": false,
    "nbgrader": {
     "checksum": "04eabe7cce41767fb506f777387a99c6",
     "grade": false,
     "grade_id": "cell-6da7b90b116a6712",
     "locked": false,
     "schema_version": 1,
     "solution": true
    }
   },
   "outputs": [],
   "source": [
    "def gradient(df, emb_user, emb_movie):\n",
    "    \"\"\" Computes the gradient.\n",
    "    \n",
    "    Hint: First compute df[\"prediction\"]. Then use df2matrix\n",
    "    to get a sparse matrix Y and Y_hat.\n",
    "    \n",
    "    Arguments:\n",
    "      df: dataframe with all data or a subset of the data\n",
    "      Y: sparse representation of df\n",
    "      emb_user: embedings for users\n",
    "      emb_movie: embedings for movies\n",
    "      \n",
    "    Returns:\n",
    "      d_emb_user\n",
    "      d_emb_movie\n",
    "    \"\"\"\n",
    "    # YOUR CODE HERE\n",
    "    df = predict(df, emb_user, emb_movie)\n",
    "    Y = df2matrix(df, emb_user.shape[0], emb_movie.shape[0])\n",
    "    Y_hat = df2matrix(df, emb_user.shape[0], emb_movie.shape[0], column_name='prediction')\n",
    "    d_emb_user = -2/len(df)*np.dot((Y.toarray()-Y_hat.toarray()),emb_movie)\n",
    "    d_emb_movie = -2/len(df)*np.dot((Y.toarray()-Y_hat.toarray()).transpose(),emb_user)\n",
    "    return d_emb_user, d_emb_movie"
   ]
  },
  {
   "cell_type": "code",
   "execution_count": 22,
   "metadata": {
    "ExecuteTime": {
     "end_time": "2019-01-29T05:53:22.183544Z",
     "start_time": "2019-01-29T05:53:22.177467Z"
    }
   },
   "outputs": [],
   "source": [
    "K = 3\n",
    "emb_user = create_embedings(num_users, K)\n",
    "emb_movie = create_embedings(num_movies, K)\n",
    "grad_user, grad_movie = gradient(df, emb_user, emb_movie)"
   ]
  },
  {
   "cell_type": "code",
   "execution_count": 23,
   "metadata": {
    "ExecuteTime": {
     "end_time": "2019-01-29T05:53:22.433014Z",
     "start_time": "2019-01-29T05:53:22.421250Z"
    },
    "deletable": false,
    "editable": false,
    "nbgrader": {
     "checksum": "f03717bfb40d791bdbae0d4d68975429",
     "grade": true,
     "grade_id": "cell-a58a216f11e292b4",
     "locked": true,
     "points": 2,
     "schema_version": 1,
     "solution": false
    }
   },
   "outputs": [],
   "source": [
    "user=1\n",
    "approx = np.array([finite_difference(df, emb_user, emb_movie, ind_u=user, k=i) for i in range(K)])\n",
    "assert(np.all(np.abs(grad_user[user] - approx) < 0.0001))"
   ]
  },
  {
   "cell_type": "code",
   "execution_count": 24,
   "metadata": {
    "ExecuteTime": {
     "end_time": "2019-01-29T05:53:22.650121Z",
     "start_time": "2019-01-29T05:53:22.638699Z"
    },
    "deletable": false,
    "editable": false,
    "nbgrader": {
     "checksum": "4e6877a8f9d3b394fe84b235b1e4b25b",
     "grade": true,
     "grade_id": "cell-4d60664272f913f0",
     "locked": true,
     "points": 2,
     "schema_version": 1,
     "solution": false
    }
   },
   "outputs": [],
   "source": [
    "movie=1\n",
    "approx = np.array([finite_difference(df, emb_user, emb_movie, ind_m=movie, k=i) for i in range(K)])\n",
    "assert(np.all(np.abs(grad_movie[movie] - approx) < 0.0001))"
   ]
  },
  {
   "cell_type": "markdown",
   "metadata": {
    "deletable": false,
    "editable": false,
    "nbgrader": {
     "checksum": "dc8cd2f251b745f930ad1f17ce2ad040",
     "grade": false,
     "grade_id": "cell-75a83a0a289d180c",
     "locked": true,
     "schema_version": 1,
     "solution": false
    }
   },
   "source": [
    "## Using gradient descent with momentum"
   ]
  },
  {
   "cell_type": "code",
   "execution_count": 25,
   "metadata": {
    "ExecuteTime": {
     "end_time": "2019-01-29T05:53:27.670868Z",
     "start_time": "2019-01-29T05:53:27.661967Z"
    },
    "deletable": false,
    "nbgrader": {
     "checksum": "b7777a7ac0cc550d5d2626e05c036ce3",
     "grade": false,
     "grade_id": "cell-ddc48938c215e395",
     "locked": false,
     "schema_version": 1,
     "solution": true
    }
   },
   "outputs": [],
   "source": [
    "# you can use a for loop to iterate through gradient descent\n",
    "def gradient_descent(df, emb_user, emb_movie, iterations=100, learning_rate=0.01, df_val=None):\n",
    "    \"\"\" Computes gradient descent with momentum (0.9) for a number of iterations.\n",
    "    \n",
    "    Prints training cost and validation cost (if df_val is not None) every 50 iterations.\n",
    "    \n",
    "    Returns:\n",
    "    emb_user: the trained user embedding\n",
    "    emb_movie: the trained movie embedding\n",
    "    \"\"\"\n",
    "    Y = df2matrix(df, emb_user.shape[0], emb_movie.shape[0])\n",
    "    # YOUR CODE HERE\n",
    "    i = 1\n",
    "    j = 1\n",
    "    while i <= iterations:\n",
    "        df = predict(df, emb_user, emb_movie)\n",
    "        Y_hat = df2matrix(df, emb_user.shape[0], emb_movie.shape[0], column_name='prediction')\n",
    "        d_emb_user = -2/len(df)*np.dot((Y.toarray()-Y_hat.toarray()),emb_movie)\n",
    "        d_emb_movie = -2/len(df)*np.dot((Y.toarray()-Y_hat.toarray()).transpose(),emb_user)\n",
    "        if i == 1:\n",
    "            m_emb_user = d_emb_user\n",
    "            m_emb_movie = d_emb_movie\n",
    "        else: \n",
    "            m_emb_user = 0.9*m_emb_user+0.1*d_emb_user\n",
    "            m_emb_movie = 0.9*m_emb_movie+0.1*d_emb_movie\n",
    "        emb_user = emb_user - learning_rate*m_emb_user\n",
    "        emb_movie = emb_movie - learning_rate*m_emb_movie\n",
    "        if i == 50*j:\n",
    "            print('The %d th iteration:'% i)\n",
    "            error = cost(df, emb_user, emb_movie)\n",
    "            if df_val is not None:\n",
    "                val_error = cost(df_val, emb_user, emb_movie)\n",
    "                print('The training cost is ', error, ' and the validation cost is ', val_error)\n",
    "            else:\n",
    "                print('The training cost is ', error)\n",
    "            j+=1\n",
    "        i += 1\n",
    "    return emb_user, emb_movie"
   ]
  },
  {
   "cell_type": "code",
   "execution_count": 26,
   "metadata": {
    "ExecuteTime": {
     "end_time": "2019-01-29T05:53:28.462065Z",
     "start_time": "2019-01-29T05:53:28.239134Z"
    }
   },
   "outputs": [
    {
     "name": "stdout",
     "output_type": "stream",
     "text": [
      "The 50 th iteration:\n",
      "The training cost is  1.701364306188372\n",
      "The 100 th iteration:\n",
      "The training cost is  0.974870517205642\n",
      "The 150 th iteration:\n",
      "The training cost is  0.6991455656925722\n",
      "The 200 th iteration:\n",
      "The training cost is  0.5265621094145293\n"
     ]
    }
   ],
   "source": [
    "emb_user = create_embedings(num_users, 3)\n",
    "emb_movie = create_embedings(num_movies, 3)\n",
    "emb_user, emb_movie = gradient_descent(df, emb_user, emb_movie, iterations=200, learning_rate=0.01)"
   ]
  },
  {
   "cell_type": "code",
   "execution_count": 27,
   "metadata": {
    "ExecuteTime": {
     "end_time": "2019-01-29T05:53:28.952978Z",
     "start_time": "2019-01-29T05:53:28.948290Z"
    },
    "deletable": false,
    "editable": false,
    "nbgrader": {
     "checksum": "427c2fa6fb1f89a88ae69589e9296744",
     "grade": true,
     "grade_id": "cell-d4f1184eccf7ebe0",
     "locked": true,
     "points": 2,
     "schema_version": 1,
     "solution": false
    }
   },
   "outputs": [],
   "source": [
    "train_mse = cost(df, emb_user, emb_movie)\n",
    "assert(np.around(train_mse, decimals=2) == 0.53)"
   ]
  },
  {
   "cell_type": "markdown",
   "metadata": {
    "deletable": false,
    "editable": false,
    "nbgrader": {
     "checksum": "d63781170ae7aac4f48c6d44afda64e7",
     "grade": false,
     "grade_id": "cell-7b4ece4b4a308a5f",
     "locked": true,
     "schema_version": 1,
     "solution": false
    }
   },
   "source": [
    "## Predicting on new data\n",
    "Now we should write a function that given new data is able to predict ratings. First we write a function that encodes new data. If a new user or item is present that row should be remove. Collaborative Filtering is not good at handling new users or new items. To help with this task, you could write a an auxiliary function similar to `proc_col`."
   ]
  },
  {
   "cell_type": "code",
   "execution_count": 28,
   "metadata": {
    "ExecuteTime": {
     "end_time": "2019-01-29T05:53:37.842306Z",
     "start_time": "2019-01-29T05:53:37.836784Z"
    },
    "deletable": false,
    "nbgrader": {
     "checksum": "89b34542423f352f952b8e049875b7ec",
     "grade": false,
     "grade_id": "cell-6535ac40f1132e10",
     "locked": false,
     "schema_version": 1,
     "solution": true
    }
   },
   "outputs": [],
   "source": [
    "def encode_new_data(df_val, df_train):\n",
    "    \"\"\" Encodes df_val with the same encoding as df_train.\n",
    "    Returns:\n",
    "    df_val: dataframe with the same encoding as df_train\n",
    "    \"\"\"\n",
    "    # YOUR CODE HERE\n",
    "    user_uniq = df_train['userId'].unique()\n",
    "    movie_uniq = df_train['movieId'].unique()\n",
    "    user2idx = {o:i for i,o in enumerate(user_uniq)}\n",
    "    movie2idx = {o:i for i,o in enumerate(movie_uniq)}\n",
    "    df_val = df_val[df_val['userId'].isin(user2idx.keys())]\n",
    "    df_val = df_val[df_val['movieId'].isin(movie2idx.keys())]\n",
    "    df_val['userId'] = np.array([user2idx[x] for x in df_val['userId']])\n",
    "    df_val['movieId'] = np.array([movie2idx[x] for x in df_val['movieId']])\n",
    "    return df_val"
   ]
  },
  {
   "cell_type": "code",
   "execution_count": 29,
   "metadata": {
    "ExecuteTime": {
     "end_time": "2019-01-29T05:53:38.341439Z",
     "start_time": "2019-01-29T05:53:38.303351Z"
    }
   },
   "outputs": [],
   "source": [
    "df_t = pd.read_csv(\"tiny_training2.csv\")\n",
    "df_v = pd.read_csv(\"tiny_val2.csv\")\n",
    "df_v = encode_new_data(df_v, df_t)"
   ]
  },
  {
   "cell_type": "code",
   "execution_count": 30,
   "metadata": {
    "ExecuteTime": {
     "end_time": "2019-01-29T05:53:39.453253Z",
     "start_time": "2019-01-29T05:53:39.449741Z"
    },
    "deletable": false,
    "editable": false,
    "nbgrader": {
     "checksum": "c3738c156a5eea374d2f22cdd05d6090",
     "grade": true,
     "grade_id": "cell-7f72f7f728540e68",
     "locked": true,
     "points": 1,
     "schema_version": 1,
     "solution": false
    }
   },
   "outputs": [],
   "source": [
    "assert(len(df_v.userId.unique())==2)"
   ]
  },
  {
   "cell_type": "code",
   "execution_count": 31,
   "metadata": {
    "ExecuteTime": {
     "end_time": "2019-01-29T05:53:40.095545Z",
     "start_time": "2019-01-29T05:53:40.090547Z"
    },
    "deletable": false,
    "editable": false,
    "nbgrader": {
     "checksum": "2e35bcd786010b0c84c3ce4218505a33",
     "grade": true,
     "grade_id": "cell-1b3ccc161bd551e7",
     "locked": true,
     "points": 1,
     "schema_version": 1,
     "solution": false
    }
   },
   "outputs": [],
   "source": [
    "assert(len(df_v) == 2)"
   ]
  },
  {
   "cell_type": "markdown",
   "metadata": {
    "deletable": false,
    "editable": false,
    "nbgrader": {
     "checksum": "8c745aa81080e9eb97ef9f23953fcabf",
     "grade": false,
     "grade_id": "cell-0033372e0e9accd9",
     "locked": true,
     "schema_version": 1,
     "solution": false
    }
   },
   "source": [
    "## Putting it all together\n",
    "For this part you should get data from here\n",
    "`wget http://files.grouplens.org/datasets/movielens/ml-latest-small.zip`"
   ]
  },
  {
   "cell_type": "code",
   "execution_count": 32,
   "metadata": {
    "ExecuteTime": {
     "end_time": "2019-01-29T05:53:43.755635Z",
     "start_time": "2019-01-29T05:53:43.554907Z"
    }
   },
   "outputs": [
    {
     "name": "stdout",
     "output_type": "stream",
     "text": [
      "20386 19591\n"
     ]
    }
   ],
   "source": [
    "# Don't change this path use a simlink if you have the data somewhere else\n",
    "path = \"ml-latest-small/\"\n",
    "data = pd.read_csv(path + \"ratings.csv\")\n",
    "# sorting by timestamp take as validation data the most recent data doesn't work so let's just take 20%\n",
    "# at random\n",
    "np.random.seed(3)\n",
    "msk = np.random.rand(len(data)) < 0.8\n",
    "train = data[msk].copy()\n",
    "val = data[~msk].copy()\n",
    "df_train, num_users, num_movies = encode_data(train.copy())\n",
    "df_val = encode_new_data(val.copy(), train.copy())\n",
    "print(len(val), len(df_val))"
   ]
  },
  {
   "cell_type": "code",
   "execution_count": 33,
   "metadata": {
    "ExecuteTime": {
     "end_time": "2019-01-29T05:54:08.504714Z",
     "start_time": "2019-01-29T05:53:44.172125Z"
    }
   },
   "outputs": [
    {
     "name": "stdout",
     "output_type": "stream",
     "text": [
      "The 50 th iteration:\n",
      "The training cost is  9.48094555948601  and the validation cost is  9.608438854258724\n",
      "The 100 th iteration:\n",
      "The training cost is  6.691390207737688  and the validation cost is  6.82417477485239\n",
      "The 150 th iteration:\n",
      "The training cost is  4.803840866998455  and the validation cost is  4.928467230047525\n",
      "The 200 th iteration:\n",
      "The training cost is  3.7567143651597803  and the validation cost is  3.8685464737636113\n"
     ]
    }
   ],
   "source": [
    "K = 50\n",
    "emb_user = create_embedings(num_users, K)\n",
    "emb_movie = create_embedings(num_movies, K)\n",
    "emb_user, emb_movie = gradient_descent(df_train, emb_user, emb_movie, iterations=200, learning_rate=1, df_val=df_val)"
   ]
  },
  {
   "cell_type": "code",
   "execution_count": 34,
   "metadata": {
    "ExecuteTime": {
     "end_time": "2019-01-29T05:54:08.719386Z",
     "start_time": "2019-01-29T05:54:08.510811Z"
    }
   },
   "outputs": [
    {
     "name": "stdout",
     "output_type": "stream",
     "text": [
      "3.7567143651597803 3.8685464737636113\n"
     ]
    }
   ],
   "source": [
    "train_mse = cost(df_train, emb_user, emb_movie)\n",
    "val_mse = cost(df_val, emb_user, emb_movie)\n",
    "print(train_mse, val_mse)"
   ]
  },
  {
   "cell_type": "markdown",
   "metadata": {},
   "source": [
    "Please check that when you run gradient descent for 2000 iterations. `val_mse` should be around 0.855"
   ]
  },
  {
   "cell_type": "code",
   "execution_count": 35,
   "metadata": {
    "ExecuteTime": {
     "end_time": "2019-01-29T05:54:08.789491Z",
     "start_time": "2019-01-29T05:54:08.729830Z"
    },
    "deletable": false,
    "editable": false,
    "nbgrader": {
     "checksum": "7bcf41243c3e6ffd74e17660e23ef4e4",
     "grade": true,
     "grade_id": "cell-edcc7b88956c5e27",
     "locked": true,
     "points": 0,
     "schema_version": 1,
     "solution": false
    }
   },
   "outputs": [],
   "source": [
    "train_mse = cost(df_train, emb_user, emb_movie)\n",
    "assert(np.around(train_mse, decimals=1) == 3.8)"
   ]
  },
  {
   "cell_type": "code",
   "execution_count": 36,
   "metadata": {
    "ExecuteTime": {
     "end_time": "2019-01-29T05:59:01.146995Z",
     "start_time": "2019-01-29T05:54:08.792163Z"
    },
    "deletable": false,
    "nbgrader": {
     "checksum": "021e44a09d8ff215dacf6e7581b38219",
     "grade": true,
     "grade_id": "cell-3638271e7060b741",
     "locked": false,
     "points": 2,
     "schema_version": 1,
     "solution": true
    }
   },
   "outputs": [
    {
     "name": "stdout",
     "output_type": "stream",
     "text": [
      "The 50 th iteration:\n",
      "The training cost is  9.48094555948601  and the validation cost is  9.608438854258724\n",
      "The 100 th iteration:\n",
      "The training cost is  6.691390207737688  and the validation cost is  6.82417477485239\n",
      "The 150 th iteration:\n",
      "The training cost is  4.803840866998455  and the validation cost is  4.928467230047525\n",
      "The 200 th iteration:\n",
      "The training cost is  3.7567143651597803  and the validation cost is  3.8685464737636113\n",
      "The 250 th iteration:\n",
      "The training cost is  3.0962612272822505  and the validation cost is  3.193977386737375\n",
      "The 300 th iteration:\n",
      "The training cost is  2.640211866512492  and the validation cost is  2.727822226645773\n",
      "The 350 th iteration:\n",
      "The training cost is  2.3096501987094205  and the validation cost is  2.3910847231805903\n",
      "The 400 th iteration:\n",
      "The training cost is  2.061108409880858  and the validation cost is  2.138973908934571\n",
      "The 450 th iteration:\n",
      "The training cost is  1.868479647237995  and the validation cost is  1.9444189915928176\n",
      "The 500 th iteration:\n",
      "The training cost is  1.7153418975229169  and the validation cost is  1.790410056256274\n",
      "The 550 th iteration:\n",
      "The training cost is  1.5909703181142485  and the validation cost is  1.6658636042549626\n",
      "The 600 th iteration:\n",
      "The training cost is  1.4881215959836511  and the validation cost is  1.5633109911440375\n",
      "The 650 th iteration:\n",
      "The training cost is  1.4017553492610975  and the validation cost is  1.4775663511990105\n",
      "The 700 th iteration:\n",
      "The training cost is  1.3282705552316731  and the validation cost is  1.404932821918579\n",
      "The 750 th iteration:\n",
      "The training cost is  1.2650338859285217  and the validation cost is  1.342713010973504\n",
      "The 800 th iteration:\n",
      "The training cost is  1.2100791143061012  and the validation cost is  1.288897350148908\n",
      "The 850 th iteration:\n",
      "The training cost is  1.1619102347612333  and the validation cost is  1.241960167620992\n",
      "The 900 th iteration:\n",
      "The training cost is  1.119369430392045  and the validation cost is  1.200723085781427\n",
      "The 950 th iteration:\n",
      "The training cost is  1.0815466648052863  and the validation cost is  1.1642616285383707\n",
      "The 1000 th iteration:\n",
      "The training cost is  1.0477165919219553  and the validation cost is  1.131840174527647\n",
      "The 1050 th iteration:\n",
      "The training cost is  1.0172937437638232  and the validation cost is  1.1028658572419328\n",
      "The 1100 th iteration:\n",
      "The training cost is  0.9898001638259638  and the validation cost is  1.0768553456810805\n",
      "The 1150 th iteration:\n",
      "The training cost is  0.96484165564296  and the validation cost is  1.0534105227667123\n",
      "The 1200 th iteration:\n",
      "The training cost is  0.9420900903197946  and the validation cost is  1.032200406681123\n",
      "The 1250 th iteration:\n",
      "The training cost is  0.921270041058677  and the validation cost is  1.0129475197282904\n",
      "The 1300 th iteration:\n",
      "The training cost is  0.902148553744762  and the validation cost is  0.9954174730974832\n",
      "The 1350 th iteration:\n",
      "The training cost is  0.8845272227089367  and the validation cost is  0.979410910504467\n",
      "The 1400 th iteration:\n",
      "The training cost is  0.8682359836790907  and the validation cost is  0.9647572057794959\n",
      "The 1450 th iteration:\n",
      "The training cost is  0.8531282020249418  and the validation cost is  0.9513094813630484\n",
      "The 1500 th iteration:\n",
      "The training cost is  0.8390767495283509  and the validation cost is  0.9389406334547213\n",
      "The 1550 th iteration:\n",
      "The training cost is  0.8259708437861765  and the validation cost is  0.927540132769377\n",
      "The 1600 th iteration:\n",
      "The training cost is  0.8137134819137042  and the validation cost is  0.9170114289300668\n",
      "The 1650 th iteration:\n",
      "The training cost is  0.8022193417029869  and the validation cost is  0.9072698290252628\n",
      "The 1700 th iteration:\n",
      "The training cost is  0.7914130536534488  and the validation cost is  0.8982407518155479\n",
      "The 1750 th iteration:\n",
      "The training cost is  0.7812277696192436  and the validation cost is  0.8898582818970595\n",
      "The 1800 th iteration:\n",
      "The training cost is  0.7716039704667987  and the validation cost is  0.8820639651387777\n",
      "The 1850 th iteration:\n",
      "The training cost is  0.7624884676765695  and the validation cost is  0.8748057995208345\n",
      "The 1900 th iteration:\n",
      "The training cost is  0.7538335633567381  and the validation cost is  0.868037385238569\n",
      "The 1950 th iteration:\n",
      "The training cost is  0.7455963404485266  and the validation cost is  0.8617172054042742\n",
      "The 2000 th iteration:\n",
      "The training cost is  0.7377380605563768  and the validation cost is  0.8558080144508505\n",
      "When run gradient descent for 2000 iterations, the val_mse is 0.8558\n"
     ]
    }
   ],
   "source": [
    "# YOUR CODE HERE\n",
    "K = 50\n",
    "emb_user = create_embedings(num_users, K)\n",
    "emb_movie = create_embedings(num_movies, K)\n",
    "emb_user, emb_movie = gradient_descent(df_train, emb_user, emb_movie, iterations=2000, learning_rate=1, df_val=df_val)\n",
    "train_mse = cost(df_train, emb_user, emb_movie)\n",
    "val_mse = cost(df_val, emb_user, emb_movie)\n",
    "print('When run gradient descent for 2000 iterations, the val_mse is %.4f'% val_mse)"
   ]
  },
  {
   "cell_type": "code",
   "execution_count": null,
   "metadata": {},
   "outputs": [],
   "source": []
  }
 ],
 "metadata": {
  "kernelspec": {
   "display_name": "Python 3",
   "language": "python",
   "name": "python3"
  },
  "language_info": {
   "codemirror_mode": {
    "name": "ipython",
    "version": 3
   },
   "file_extension": ".py",
   "mimetype": "text/x-python",
   "name": "python",
   "nbconvert_exporter": "python",
   "pygments_lexer": "ipython3",
   "version": "3.6.6"
  },
  "latex_envs": {
   "bibliofile": "biblio.bib",
   "cite_by": "apalike",
   "current_citInitial": 1,
   "eqLabelWithNumbers": true,
   "eqNumInitial": 0
  },
  "toc": {
   "nav_menu": {},
   "number_sections": true,
   "sideBar": true,
   "skip_h1_title": false,
   "toc_cell": false,
   "toc_position": {},
   "toc_section_display": "block",
   "toc_window_display": false
  }
 },
 "nbformat": 4,
 "nbformat_minor": 2
}
